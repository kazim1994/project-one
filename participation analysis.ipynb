{
    "cells": [
        {
            "cell_type": "markdown",
            "metadata": {},
            "source": "#description\nthis notebook analysis and visualizes participation data"
        },
        {
            "cell_type": "code",
            "execution_count": 1,
            "metadata": {},
            "outputs": [
                {
                    "data": {
                        "text/html": "<div>\n<style scoped>\n    .dataframe tbody tr th:only-of-type {\n        vertical-align: middle;\n    }\n\n    .dataframe tbody tr th {\n        vertical-align: top;\n    }\n\n    .dataframe thead th {\n        text-align: right;\n    }\n</style>\n<table border=\"1\" class=\"dataframe\">\n  <thead>\n    <tr style=\"text-align: right;\">\n      <th></th>\n      <th>OrderDate</th>\n      <th>Region</th>\n      <th>Rep</th>\n      <th>Item</th>\n      <th>Units</th>\n      <th>UnitCost</th>\n      <th>Total</th>\n    </tr>\n  </thead>\n  <tbody>\n    <tr>\n      <th>0</th>\n      <td>2019-01-06</td>\n      <td>East</td>\n      <td>Jones</td>\n      <td>Pencil</td>\n      <td>95</td>\n      <td>1.99</td>\n      <td>189.05</td>\n    </tr>\n    <tr>\n      <th>1</th>\n      <td>2019-01-23</td>\n      <td>Central</td>\n      <td>Kivell</td>\n      <td>Binder</td>\n      <td>50</td>\n      <td>19.99</td>\n      <td>999.50</td>\n    </tr>\n    <tr>\n      <th>2</th>\n      <td>2019-02-09</td>\n      <td>Central</td>\n      <td>Jardine</td>\n      <td>Pencil</td>\n      <td>36</td>\n      <td>4.99</td>\n      <td>179.64</td>\n    </tr>\n    <tr>\n      <th>3</th>\n      <td>2019-02-26</td>\n      <td>Central</td>\n      <td>Gill</td>\n      <td>Pen</td>\n      <td>27</td>\n      <td>19.99</td>\n      <td>539.73</td>\n    </tr>\n    <tr>\n      <th>4</th>\n      <td>2019-03-15</td>\n      <td>West</td>\n      <td>Sorvino</td>\n      <td>Pencil</td>\n      <td>56</td>\n      <td>2.99</td>\n      <td>167.44</td>\n    </tr>\n  </tbody>\n</table>\n</div>",
                        "text/plain": "   OrderDate   Region      Rep    Item  Units  UnitCost   Total\n0 2019-01-06     East    Jones  Pencil     95      1.99  189.05\n1 2019-01-23  Central   Kivell  Binder     50     19.99  999.50\n2 2019-02-09  Central  Jardine  Pencil     36      4.99  179.64\n3 2019-02-26  Central     Gill     Pen     27     19.99  539.73\n4 2019-03-15     West  Sorvino  Pencil     56      2.99  167.44"
                    },
                    "execution_count": 1,
                    "metadata": {},
                    "output_type": "execute_result"
                }
            ],
            "source": "# The code was removed by Watson Studio for sharing."
        },
        {
            "cell_type": "code",
            "execution_count": null,
            "metadata": {},
            "outputs": [],
            "source": ""
        }
    ],
    "metadata": {
        "kernelspec": {
            "display_name": "Python 3.6",
            "language": "python",
            "name": "python3"
        },
        "language_info": {
            "codemirror_mode": {
                "name": "ipython",
                "version": 3
            },
            "file_extension": ".py",
            "mimetype": "text/x-python",
            "name": "python",
            "nbconvert_exporter": "python",
            "pygments_lexer": "ipython3",
            "version": "3.6.9"
        }
    },
    "nbformat": 4,
    "nbformat_minor": 1
}